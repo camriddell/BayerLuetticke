{
 "cells": [
  {
   "cell_type": "markdown",
   "id": "724c7d42",
   "metadata": {},
   "source": [
    "# One Asset HANK Model [<cite data-cite=\"6202365/ECL3ZAR7\"></cite>](https://cepr.org/active/publications/discussion_papers/dp.php?dpno=13071)\n",
    "\n",
    "[![Binder](https://mybinder.org/badge_logo.svg)](https://mybinder.org/v2/gh/econ-ark/HARK/BayerLuetticke/notebooks?filepath=HARK%2FBayerLuetticke%2FOneAsset-HANK.ipynb)\n",
    "\n",
    "This notebook solves a New Keynesian model in which there is only a single liquid asset.  This is the second model described in [Bayer and Luetticke (2019)](https://cepr.org/active/publications/discussion_papers/dp.php?dpno=13071)"
   ]
  },
  {
   "cell_type": "code",
   "execution_count": null,
   "id": "0b0fab80",
   "metadata": {
    "code_folding": [],
    "jupyter": {
     "source_hidden": true
    },
    "tags": []
   },
   "outputs": [],
   "source": [
    "# Setup stuff\n",
    "\n",
    "# This is a jupytext paired notebook that autogenerates a corresponding .py file\n",
    "# which can be executed from a terminal command line via \"ipython [name].py\"\n",
    "# But a terminal does not permit inline figures, so we need to test jupyter vs terminal\n",
    "# Google \"how can I check if code is executed in the ipython notebook\"\n",
    "\n",
    "import warnings\n",
    "import time\n",
    "import pickle\n",
    "import os\n",
    "import sys\n",
    "from copy import copy\n",
    "\n",
    "# Ignore scary but unimportant system warnings while running the notebook\n",
    "warnings.filterwarnings('ignore')\n",
    "\n",
    "\n",
    "def in_ipynb():\n",
    "    try:\n",
    "        if str(type(get_ipython())) == \"<class 'ipykernel.zmqshell.ZMQInteractiveShell'>\":\n",
    "            return True\n",
    "        else:\n",
    "            return False\n",
    "    except NameError:\n",
    "        return False\n",
    "\n",
    "\n",
    "# Determine whether to make the figures inline (for spyder or jupyter)\n",
    "# vs whatever is the automatic setting that will apply if run from the terminal\n",
    "if in_ipynb():\n",
    "    # matplotlib inline generates a syntax error when run from the shell\n",
    "    # so do this instead\n",
    "    get_ipython().run_line_magic('matplotlib', 'inline')\n",
    "else:\n",
    "    from matplotlib.pyplot import ion\n",
    "    ion()\n",
    "    get_ipython().run_line_magic('matplotlib', 'auto')\n",
    "\n",
    "# The tools for navigating the filesystem\n",
    "\n",
    "# Ignore scary but unimportant system warnings while running the notebook\n",
    "warnings.filterwarnings('ignore')"
   ]
  },
  {
   "cell_type": "code",
   "execution_count": null,
   "id": "c6b3f6c6",
   "metadata": {
    "code_folding": [],
    "tags": []
   },
   "outputs": [],
   "source": [
    "# Code must be inside a main() block to be usable for multiprocessing from command line\n",
    "# Jupyter notebooks ignore the multiprocessing (so are slower)\n",
    "\n",
    "\n",
    "def main():\n",
    "\n",
    "    # Find pathname to this file:\n",
    "\n",
    "    my_file_path = os.path.dirname(os.path.abspath(\"OneAsset-KS.py\"))\n",
    "\n",
    "    # Relative and absolute paths for pickled code\n",
    "    code_dir_rel = os.path.join(my_file_path, \"../Assets/One\")\n",
    "    code_dir = os.path.abspath(code_dir_rel)\n",
    "    sys.path.insert(0, code_dir)\n",
    "    sys.path.insert(0, my_file_path)\n",
    "    os.chdir(code_dir)\n",
    "\n",
    "    from FluctuationsOneAssetIOUs import FluctuationsOneAssetIOUs, SGU_solver, plot_IRF\n",
    "\n",
    "    # Load precomputed Stationary Equilibrium (StE) object\n",
    "    # EX1SS.p is the information in the stationary equilibrium\n",
    "    EX1SS = pickle.load(open(\"EX1SS_nm50.p\", \"rb\"))\n",
    "    start_time = time.perf_counter()\n",
    "\n",
    "    EX1SR = FluctuationsOneAssetIOUs(**EX1SS)\n",
    "\n",
    "    SR = EX1SR.StateReduc()\n",
    "\n",
    "    SGUresult = SGU_solver(SR['Xss'], SR['Yss'], SR['Gamma_state'], SR['Gamma_control'], SR['InvGamma'], SR['Copula'],\n",
    "                           SR['par'], SR['mpar'], SR['grid'], SR['targets'], SR['P_H'], SR['aggrshock'], SR['oc'])\n",
    "\n",
    "    plot_IRF(SR['mpar'], SR['par'], SGUresult['gx'], SGUresult['hx'], SR['joint_distr'],\n",
    "             SR['Gamma_state'], SR['grid'], SR['targets'], SR['os'], SR['oc'], SR['Output'])\n",
    "\n",
    "\n",
    "if __name__ == \"__main__\":\n",
    "    main()"
   ]
  }
 ],
 "metadata": {
  "jupytext": {
   "cell_metadata_json": true,
   "formats": "ipynb,py:percent"
  },
  "kernelspec": {
   "display_name": "Python 3",
   "language": "python",
   "name": "python3"
  }
 },
 "nbformat": 4,
 "nbformat_minor": 5
}
