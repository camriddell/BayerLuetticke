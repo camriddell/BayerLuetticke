{
 "cells": [
  {
   "cell_type": "markdown",
   "metadata": {},
   "source": [
    "### What is DCT (discrete cosine transformation) ?\n",
    "\n",
    "- This notebook creates arbitrary consumption functions at both 1-dimensional and 2-dimensional grids and illustrate how DCT approximates the full-grid function with different level of accuracies. \n",
    "- This is used in [DCT-Copula-Illustration notebook](DCT-Copula-Illustration.ipynb) to plot consumption functions approximated by DCT versus original consumption function at full grids.\n",
    "- Written by Tao Wang\n",
    "- June 19, 2019"
   ]
  },
  {
   "cell_type": "code",
   "execution_count": null,
   "metadata": {
    "code_folding": [
     0,
     11
    ]
   },
   "outputs": [],
   "source": [
    "# Setup\n",
    "def in_ipynb():\n",
    "    try:\n",
    "        if str(type(get_ipython())) == \"<class 'ipykernel.zmqshell.ZMQInteractiveShell'>\":\n",
    "            return True\n",
    "        else:\n",
    "            return False\n",
    "    except NameError:\n",
    "        return False\n",
    "\n",
    "# Determine whether to make the figures inline (for spyder or jupyter)\n",
    "# vs whatever is the automatic setting that will apply if run from the terminal\n",
    "if in_ipynb():\n",
    "    # # # matplotlib inline generates a syntax error when run from the shell\n",
    "    # so do this instead\n",
    "    get_ipython().run_line_magic('matplotlib', 'inline') \n",
    "else:\n",
    "    from matplotlib.pyplot import ion\n",
    "    ion()\n",
    "    get_ipython().run_line_magic('matplotlib', 'auto') "
   ]
  },
  {
   "cell_type": "code",
   "execution_count": null,
   "metadata": {},
   "outputs": [],
   "source": [
    "# Import tools\n",
    "import scipy.fftpack as sf  # scipy discrete fourier transform\n",
    "import numpy as np\n",
    "import matplotlib.pyplot as plt\n",
    "from mpl_toolkits.mplot3d import Axes3D\n",
    "import numpy.linalg as lag\n",
    "from scipy import misc \n",
    "from matplotlib import cm"
   ]
  },
  {
   "cell_type": "code",
   "execution_count": null,
   "metadata": {
    "code_folding": [],
    "lines_to_next_cell": 2
   },
   "outputs": [],
   "source": [
    "## DCT in 1 dimension\n",
    "\n",
    "grids= np.linspace(0,100,100)   # this represents the grids on which consumption function is defined.i.e. m or k\n",
    "\n",
    "c =grids + 50*np.cos(grids*2*np.pi/40)  # this is an arbitrary example of consumption function \n",
    "c_dct = sf.dct(c,norm='ortho') # set norm =ortho is important \n",
    "ind=np.argsort(abs(c_dct))[::-1]   # get indices of dct coefficients(absolute value) in descending order"
   ]
  },
  {
   "cell_type": "code",
   "execution_count": null,
   "metadata": {
    "code_folding": [
     0
    ]
   },
   "outputs": [],
   "source": [
    "## DCT in 1 dimension for difference accuracy levels\n",
    "\n",
    "fig = plt.figure(figsize=(5,5))\n",
    "fig.suptitle('DCT compressed c function with different accuracy levels')\n",
    "lvl_lst = np.array([0.5,0.9,0.99])\n",
    "plt.plot(c,'r*',label='c at full grids')\n",
    "c_dct = sf.dct(c,norm='ortho')  # set norm =ortho is important  \n",
    "ind=np.argsort(abs(c_dct))[::-1]\n",
    "for idx in range(len(lvl_lst)):\n",
    "    i = 1 # starts the loop that finds the needed indices so that an target level of approximation is achieved \n",
    "    while lag.norm(c_dct[ind[0:i]].copy())/lag.norm(c_dct) < lvl_lst[idx]:\n",
    "        i = i + 1\n",
    "    needed = i\n",
    "    print(\"For accuracy level of \"+str(lvl_lst[idx])+\", \"+str(needed)+\" basis functions used\")\n",
    "    c_dct_rdc=c.copy()\n",
    "    c_dct_rdc[ind[needed+1:]] = 0\n",
    "    c_approx = sf.idct(c_dct_rdc)\n",
    "    plt.plot(c_approx,label=r'c approx at ${}$'.format(lvl_lst[idx]))\n",
    "plt.legend(loc=0)"
   ]
  },
  {
   "cell_type": "code",
   "execution_count": null,
   "metadata": {
    "code_folding": [
     0
    ]
   },
   "outputs": [],
   "source": [
    "## Blockwise DCT. For illustration but not used in BayerLuetticke. \n",
    "## But it illustrates how doing dct in more finely devided blocks give a better approximation\n",
    "\n",
    "size = c.shape\n",
    "c_dct = np.zeros(size)\n",
    "c_approx=np.zeros(size)\n",
    "\n",
    "fig = plt.figure(figsize=(5,5))\n",
    "fig.suptitle('DCT compressed c function with different number of basis funcs')\n",
    "nbs_lst = np.array([20,50])\n",
    "plt.plot(c,'r*',label='c at full grids')\n",
    "for i in range(len(nbs_lst)):\n",
    "    delta = np.int(size[0]/nbs_lst[i])\n",
    "    for pos in np.r_[:size[0]:delta]:\n",
    "        c_dct[pos:(pos+delta)] = sf.dct(c[pos:(pos+delta)],norm='ortho')\n",
    "        c_approx[pos:(pos+delta)]=sf.idct(c_dct[pos:(pos+delta)])\n",
    "    plt.plot(c_dct,label=r'Nb of blocks= ${}$'.format(nbs_lst[i]))\n",
    "plt.legend(loc=0)"
   ]
  },
  {
   "cell_type": "code",
   "execution_count": null,
   "metadata": {
    "code_folding": [
     0
    ]
   },
   "outputs": [],
   "source": [
    "# DCT in 2 dimensions \n",
    "\n",
    "def dct2d(x):\n",
    "    x0 = sf.dct(x.copy(),axis=0,norm='ortho')\n",
    "    x_dct = sf.dct(x0.copy(),axis=1,norm='ortho')\n",
    "    return x_dct\n",
    "def idct2d(x):\n",
    "    x0 = sf.idct(x.copy(),axis=1,norm='ortho')\n",
    "    x_idct= sf.idct(x0.copy(),axis=0,norm='ortho')\n",
    "    return x_idct\n",
    "\n",
    "# arbitrarily generate a consumption function at different grid points \n",
    "grid0=20\n",
    "grid1=20\n",
    "grids0 = np.linspace(0,20,grid0)\n",
    "grids1 = np.linspace(0,20,grid1)\n",
    "\n",
    "c2d = np.zeros([grid0,grid1])\n",
    "\n",
    "# create an arbitrary c functions at 2-dimensional grids\n",
    "for i in range(grid0):\n",
    "    for j in range(grid1):\n",
    "        c2d[i,j]= grids0[i]*grids1[j] - 50*np.sin(grids0[i]*2*np.pi/40)+10*np.cos(grids1[j]*2*np.pi/40)\n",
    "\n",
    "## do dct for 2-dimensional c at full grids \n",
    "c2d_dct=dct2d(c2d)\n",
    "\n",
    "## convert the 2d to 1d for easier manipulation \n",
    "c2d_dct_flt = c2d_dct.flatten(order='F') \n",
    "ind2d = np.argsort(abs(c2d_dct_flt.copy()))[::-1] # get indices of dct coefficients(abosolute value) \n",
    "                                              #   in the decending order"
   ]
  },
  {
   "cell_type": "code",
   "execution_count": null,
   "metadata": {
    "code_folding": [
     0
    ]
   },
   "outputs": [],
   "source": [
    "# DCT in 2 dimensions for different levels of accuracy \n",
    "\n",
    "fig = plt.figure(figsize=(15,10))\n",
    "fig.suptitle('DCT compressed c function with different accuracy levels')\n",
    "lvl_lst = np.array([0.999,0.99,0.9,0.8,0.5])\n",
    "ax=fig.add_subplot(2,3,1)\n",
    "ax.imshow(c2d)\n",
    "ax.set_title(r'$1$')\n",
    "\n",
    "for idx in range(len(lvl_lst)):\n",
    "    i = 1    \n",
    "    while lag.norm(c2d_dct_flt[ind2d[:i]].copy())/lag.norm(c2d_dct_flt) < lvl_lst[idx]:\n",
    "        i += 1    \n",
    "    needed = i\n",
    "    print(\"For accuracy level of \"+str(lvl_lst[idx])+\", \"+str(needed)+\" basis functions are used\")\n",
    "    c2d_dct_rdc=c2d_dct.copy()\n",
    "    idx_urv = np.unravel_index(np.sort(ind2d[needed+1:]),(grid0,grid1),order='F')\n",
    "    c2d_dct_rdc[idx_urv] = 0\n",
    "    c2d_approx = idct2d(c2d_dct_rdc)\n",
    "    ax = fig.add_subplot(2,3,idx+2)\n",
    "    ax.set_title(r'${}$'.format(lvl_lst[idx]))\n",
    "    ax.imshow(c2d_approx)"
   ]
  },
  {
   "cell_type": "code",
   "execution_count": null,
   "metadata": {
    "code_folding": [
     0
    ]
   },
   "outputs": [],
   "source": [
    "## surface plot of c at full grids and dct approximates with different accuracy levels\n",
    "\n",
    "fig = plt.figure(figsize=(15,10))\n",
    "fig.suptitle('DCT compressed c function in different accuracy levels')\n",
    "lvl_lst = np.array([0.999,0.99,0.9,0.8,0.5])\n",
    "ax=fig.add_subplot(2,3,1,projection='3d')\n",
    "ax.plot_surface(grids0,grids1,c2d,cmap=cm.coolwarm)\n",
    "ax.set_title(r'$1$')\n",
    "\n",
    "for idx in range(len(lvl_lst)):\n",
    "    i = 1    \n",
    "    while lag.norm(c2d_dct_flt[ind2d[:i]].copy())/lag.norm(c2d_dct_flt) < lvl_lst[idx]:\n",
    "        i += 1    \n",
    "    needed = i\n",
    "    print(\"For accuracy level of \"+str(lvl_lst[idx])+\", \"+str(needed)+\" basis functions are used\")\n",
    "    c2d_dct_rdc=c2d_dct.copy()\n",
    "    idx_urv = np.unravel_index(ind2d[needed+1:],(grid0,grid1))\n",
    "    c2d_dct_rdc[idx_urv] = 0\n",
    "    c2d_approx = idct2d(c2d_dct_rdc)\n",
    "    ax = fig.add_subplot(2,3,idx+2,projection='3d')\n",
    "    ax.set_title(r'${}$'.format(lvl_lst[idx]))\n",
    "    ax.plot_surface(grids0,grids1,c2d_approx,cmap=cm.coolwarm)"
   ]
  },
  {
   "cell_type": "code",
   "execution_count": null,
   "metadata": {
    "code_folding": [
     0
    ]
   },
   "outputs": [],
   "source": [
    "# surface plot of absoulte value of differences of c at full grids and approximated\n",
    "\n",
    "fig = plt.figure(figsize=(15,10))\n",
    "fig.suptitle('Differences(abosolute value) of DCT compressed with c at full grids in different accuracy levels')\n",
    "lvl_lst = np.array([0.999,0.99,0.9,0.8,0.5])\n",
    "ax=fig.add_subplot(2,3,1,projection='3d')\n",
    "c2d_diff = abs(c2d-c2d)\n",
    "ax.plot_surface(grids0,grids1,c2d_diff,cmap=cm.coolwarm)\n",
    "ax.set_title(r'$1$')\n",
    "for idx in range(len(lvl_lst)):\n",
    "    i = 1    \n",
    "    while lag.norm(c2d_dct_flt[ind2d[:i]].copy())/lag.norm(c2d_dct_flt) < lvl_lst[idx]:\n",
    "        i += 1    \n",
    "    needed = i\n",
    "    print(\"For accuracy level of \"+str(lvl_lst[idx])+\", \"+str(needed)+\" basis functions are used\")\n",
    "    c2d_dct_rdc=c2d_dct.copy()\n",
    "    idx_urv = np.unravel_index(ind2d[needed+1:],(grid0,grid1))\n",
    "    c2d_dct_rdc[idx_urv] = 0\n",
    "    c2d_approx = idct2d(c2d_dct_rdc)\n",
    "    c2d_approx_diff = abs(c2d_approx - c2d)\n",
    "    ax = fig.add_subplot(2,3,idx+2,projection='3d')\n",
    "    ax.set_title(r'${}$'.format(lvl_lst[idx]))\n",
    "    ax.plot_surface(grids0,grids1,c2d_approx_diff,cmap= 'OrRd',linewidth=1)\n",
    "    ax.view_init(20, 90)"
   ]
  }
 ],
 "metadata": {
  "jupytext": {
   "formats": "ipynb,py:percent"
  },
  "kernelspec": {
   "display_name": "Python 3",
   "language": "python",
   "name": "python3"
  }
 },
 "nbformat": 4,
 "nbformat_minor": 4
}
